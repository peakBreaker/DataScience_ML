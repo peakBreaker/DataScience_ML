{
 "cells": [
  {
   "cell_type": "markdown",
   "metadata": {},
   "source": [
    "# Numpy operations\n",
    "\n",
    "Till now we have looked at using numpy for creating arrays and working with numpy for selecting values from these arrays.  In this tutorial we will take a closer look at the built in functionalities in numpy for altering these arrays.  Specifically in this tutorial we will look at:\n",
    "\n",
    "- Array with array or scalars\n",
    "- Universal array functions\n",
    "\n",
    "Using scalars means that instead of using functions or arrays in operations, we use numbers which scale or broadcast across arrays\n",
    "\n",
    "\n",
    "**Lets begin by importing numpy and look at some basic operations using both arrays and scalars:**"
   ]
  },
  {
   "cell_type": "code",
   "execution_count": 1,
   "metadata": {
    "collapsed": true
   },
   "outputs": [],
   "source": [
    "import numpy as np"
   ]
  },
  {
   "cell_type": "code",
   "execution_count": 2,
   "metadata": {
    "collapsed": false
   },
   "outputs": [
    {
     "data": {
      "text/plain": [
       "array([ 0,  1,  2,  3,  4,  5,  6,  7,  8,  9, 10])"
      ]
     },
     "execution_count": 2,
     "metadata": {},
     "output_type": "execute_result"
    }
   ],
   "source": [
    "arr = np.arange(0,11)\n",
    "arr"
   ]
  },
  {
   "cell_type": "code",
   "execution_count": 12,
   "metadata": {
    "collapsed": false
   },
   "outputs": [
    {
     "name": "stdout",
     "output_type": "stream",
     "text": [
      "Addition: [ 0  2  4  6  8 10 12 14 16 18 20] \n",
      "Subtraction: [0 0 0 0 0 0 0 0 0 0 0] \n",
      "Multiplication: [  0   1   4   9  16  25  36  49  64  81 100] \n",
      "Division: [ 0.   0.5  1.   1.5  2.   2.5  3.   3.5  4.   4.5  5. ] \n",
      "Exponent: [  0   1   4   9  16  25  36  49  64  81 100]\n"
     ]
    }
   ],
   "source": [
    "# Arithmetics with arrays\n",
    "print(\"Addition: %s \" % (arr + arr))\n",
    "print(\"Subtraction: %s \" % (arr - arr))\n",
    "print(\"Multiplication: %s \" % (arr * arr))\n",
    "print(\"Division: %s \" % (arr / 2)) # Arrays are also valid here, but in this case we broadcas a value\n",
    "print(\"Exponent: %s\" % (arr**2))"
   ]
  },
  {
   "cell_type": "code",
   "execution_count": 11,
   "metadata": {
    "collapsed": false
   },
   "outputs": [
    {
     "name": "stderr",
     "output_type": "stream",
     "text": [
      "/home/peakbreaker/.local/lib/python3.5/site-packages/ipykernel_launcher.py:2: RuntimeWarning: divide by zero encountered in true_divide\n",
      "  \n",
      "/home/peakbreaker/.local/lib/python3.5/site-packages/ipykernel_launcher.py:2: RuntimeWarning: invalid value encountered in true_divide\n",
      "  \n"
     ]
    },
    {
     "data": {
      "text/plain": [
       "array([ nan,  inf,  inf,  inf,  inf,  inf,  inf,  inf,  inf,  inf,  inf])"
      ]
     },
     "execution_count": 11,
     "metadata": {},
     "output_type": "execute_result"
    }
   ],
   "source": [
    "# Note that numpy will in some cases not give errors, but warnings on invalid operations\n",
    "arr/0"
   ]
  },
  {
   "cell_type": "markdown",
   "metadata": {
    "collapsed": true
   },
   "source": [
    "## Universal array functions\n",
    "UAF is essentially just math operations given by numpy we can use to broadcast through an entire array\n",
    "\n",
    "These functions are referred to as universal functions or ufunc for reference\n",
    "\n",
    "**Lets take a look at some common ones: **"
   ]
  },
  {
   "cell_type": "code",
   "execution_count": 17,
   "metadata": {
    "collapsed": false
   },
   "outputs": [
    {
     "name": "stdout",
     "output_type": "stream",
     "text": [
      "[ 0.          1.          1.41421356  1.73205081  2.          2.23606798\n",
      "  2.44948974  2.64575131  2.82842712  3.          3.16227766]\n",
      "[  1.00000000e+00   2.71828183e+00   7.38905610e+00   2.00855369e+01\n",
      "   5.45981500e+01   1.48413159e+02   4.03428793e+02   1.09663316e+03\n",
      "   2.98095799e+03   8.10308393e+03   2.20264658e+04]\n",
      "0\n",
      "10\n"
     ]
    }
   ],
   "source": [
    "print(np.sqrt(arr)) # Square of the array\n",
    "print(np.exp(arr)) # Exponential value of the array\n",
    "print(np.min(arr)) # Finding min value\n",
    "print(arr.max()) # Finding max value"
   ]
  },
  {
   "cell_type": "code",
   "execution_count": 19,
   "metadata": {
    "collapsed": false
   },
   "outputs": [
    {
     "name": "stdout",
     "output_type": "stream",
     "text": [
      "[ 0.          0.84147098  0.90929743  0.14112001 -0.7568025  -0.95892427\n",
      " -0.2794155   0.6569866   0.98935825  0.41211849 -0.54402111]\n",
      "[ 1.          0.54030231 -0.41614684 -0.9899925  -0.65364362  0.28366219\n",
      "  0.96017029  0.75390225 -0.14550003 -0.91113026 -0.83907153]\n"
     ]
    }
   ],
   "source": [
    "# Trigonometric funcations\n",
    "print(np.sin(arr))\n",
    "print(np.cos(arr))"
   ]
  },
  {
   "cell_type": "code",
   "execution_count": 20,
   "metadata": {
    "collapsed": false
   },
   "outputs": [
    {
     "name": "stderr",
     "output_type": "stream",
     "text": [
      "/home/peakbreaker/.local/lib/python3.5/site-packages/ipykernel_launcher.py:2: RuntimeWarning: divide by zero encountered in log\n",
      "  \n"
     ]
    },
    {
     "data": {
      "text/plain": [
       "array([       -inf,  0.        ,  0.69314718,  1.09861229,  1.38629436,\n",
       "        1.60943791,  1.79175947,  1.94591015,  2.07944154,  2.19722458,\n",
       "        2.30258509])"
      ]
     },
     "execution_count": 20,
     "metadata": {},
     "output_type": "execute_result"
    }
   ],
   "source": [
    "# Logarithms\n",
    "np.log(arr)"
   ]
  }
 ],
 "metadata": {
  "kernelspec": {
   "display_name": "Python 3",
   "language": "python",
   "name": "python3"
  },
  "language_info": {
   "codemirror_mode": {
    "name": "ipython",
    "version": 3
   },
   "file_extension": ".py",
   "mimetype": "text/x-python",
   "name": "python",
   "nbconvert_exporter": "python",
   "pygments_lexer": "ipython3",
   "version": "3.5.3"
  }
 },
 "nbformat": 4,
 "nbformat_minor": 2
}
