{
 "cells": [
  {
   "cell_type": "markdown",
   "metadata": {},
   "source": [
    "### Computation Graphs\n",
    "\n",
    "Lets look into computation graphs - dynamic and static.\n",
    "\n",
    "Graphs are all around, and you can imagine a neural net as a DAG.  The edges being computations, and nodes being tensors.\n",
    "\n",
    "PyTorch has dynamic computation graphs - meaning that he graph is defined as it is executed.  Tensorflow has traditionally been using static comp graphs. In programming terms this outsets two different styles:\n",
    "- Symbolic programming for static graphs\n",
    "- Imperative programming for dynamic graphs\n",
    "\n",
    "Tensorflow : Define, then run\n",
    "\n",
    "PyTorch : Define by run\n",
    "\n",
    "**Lets look at TF and Pytorch and their differences**"
   ]
  },
  {
   "cell_type": "code",
   "execution_count": 3,
   "metadata": {},
   "outputs": [],
   "source": [
    "import numpy as np\n",
    "import torch\n",
    "import torch.nn as nn"
   ]
  },
  {
   "cell_type": "code",
   "execution_count": 6,
   "metadata": {},
   "outputs": [],
   "source": [
    "W = torch.randn(6)\n",
    "x = torch.tensor([10.0 for _ in range(6)])\n",
    "b = torch.tensor(3)"
   ]
  },
  {
   "cell_type": "code",
   "execution_count": 8,
   "metadata": {},
   "outputs": [],
   "source": [
    "y = W*x + b"
   ]
  },
  {
   "cell_type": "code",
   "execution_count": 9,
   "metadata": {},
   "outputs": [
    {
     "data": {
      "text/plain": [
       "tensor([  8.1870,  14.9656,  -3.0701, -13.5930,   7.0835,  21.7558])"
      ]
     },
     "execution_count": 9,
     "metadata": {},
     "output_type": "execute_result"
    }
   ],
   "source": [
    "y"
   ]
  },
  {
   "cell_type": "code",
   "execution_count": 41,
   "metadata": {},
   "outputs": [
    {
     "name": "stdout",
     "output_type": "stream",
     "text": [
      "Collecting git+ssh://****@github.com/nanohanno/hiddenlayer@bugfix/get_trace_graph\n",
      "  Cloning ssh://****@github.com/nanohanno/hiddenlayer (to revision bugfix/get_trace_graph) to /tmp/pip-req-build-y167tw3c\n",
      "  Running command git clone -q 'ssh://****@github.com/nanohanno/hiddenlayer' /tmp/pip-req-build-y167tw3c\n",
      "  Running command git checkout -b bugfix/get_trace_graph --track origin/bugfix/get_trace_graph\n",
      "  Switched to a new branch 'bugfix/get_trace_graph'\n",
      "  Branch 'bugfix/get_trace_graph' set up to track remote branch 'bugfix/get_trace_graph' from 'origin'.\n",
      "Building wheels for collected packages: hiddenlayer\n",
      "  Building wheel for hiddenlayer (setup.py) ... \u001b[?25ldone\n",
      "\u001b[?25h  Created wheel for hiddenlayer: filename=hiddenlayer-0.2-py3-none-any.whl size=19744 sha256=a08ebe25a9faaaab90424f2b1d0622fdeb00820f7900e6c97ec6cb012c52d02e\n",
      "  Stored in directory: /tmp/pip-ephem-wheel-cache-cx9tcro5/wheels/ce/3f/d7/45967e1bc5a1b67c124c901856779b18606e0b38adb4703239\n",
      "Successfully built hiddenlayer\n",
      "Installing collected packages: hiddenlayer\n",
      "Successfully installed hiddenlayer-0.2\n"
     ]
    }
   ],
   "source": [
    "!pip install git+ssh://git@github.com/nanohanno/hiddenlayer@bugfix/get_trace_graph"
   ]
  },
  {
   "cell_type": "code",
   "execution_count": 42,
   "metadata": {},
   "outputs": [],
   "source": [
    "import hiddenlayer as hl"
   ]
  },
  {
   "cell_type": "code",
   "execution_count": 43,
   "metadata": {},
   "outputs": [],
   "source": [
    "x_train = np.array([[1.7], [2.5], [5.5], [7.9], [8.8],\n",
    "                    [2.4], [2.4], [8.89], [5], [4.4]],\n",
    "                   dtype=np.float32)\n",
    "y_train = np.array([[1.9], [2.68], [4.22], [8.19], [9.69],\n",
    "                   [3.4], [2.6], [8.8], [5.6], [4.7]],\n",
    "                   dtype=np.float32)\n"
   ]
  },
  {
   "cell_type": "code",
   "execution_count": 44,
   "metadata": {},
   "outputs": [
    {
     "data": {
      "text/plain": [
       "(10, 1)"
      ]
     },
     "execution_count": 44,
     "metadata": {},
     "output_type": "execute_result"
    }
   ],
   "source": [
    "X_train = torch.tensor(x_train)\n",
    "Y_train = torch.tensor(y_train)\n",
    "x_train.shape"
   ]
  },
  {
   "cell_type": "code",
   "execution_count": 45,
   "metadata": {},
   "outputs": [],
   "source": [
    "## Lets make a simple neural net on this data\n",
    "inp = 1\n",
    "out = 1\n",
    "hid = 100"
   ]
  },
  {
   "cell_type": "code",
   "execution_count": 46,
   "metadata": {},
   "outputs": [],
   "source": [
    "model1 = torch.nn.Sequential(torch.nn.Linear(inp,hid),\n",
    "                       torch.nn.Linear(hid,out))"
   ]
  },
  {
   "cell_type": "code",
   "execution_count": null,
   "metadata": {},
   "outputs": [],
   "source": []
  }
 ],
 "metadata": {
  "kernelspec": {
   "display_name": "Python 3",
   "language": "python",
   "name": "python3"
  },
  "language_info": {
   "codemirror_mode": {
    "name": "ipython",
    "version": 3
   },
   "file_extension": ".py",
   "mimetype": "text/x-python",
   "name": "python",
   "nbconvert_exporter": "python",
   "pygments_lexer": "ipython3",
   "version": "3.8.1"
  }
 },
 "nbformat": 4,
 "nbformat_minor": 4
}
