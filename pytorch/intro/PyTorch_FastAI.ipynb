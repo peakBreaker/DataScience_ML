{
 "cells": [
  {
   "cell_type": "code",
   "execution_count": 2,
   "metadata": {},
   "outputs": [],
   "source": [
    "%reload_ext autoreload\n",
    "%autoreload 2\n",
    "%matplotlib inline"
   ]
  },
  {
   "cell_type": "code",
   "execution_count": 3,
   "metadata": {},
   "outputs": [],
   "source": [
    "from fastai.text import *"
   ]
  },
  {
   "cell_type": "code",
   "execution_count": 4,
   "metadata": {},
   "outputs": [
    {
     "name": "stdout",
     "output_type": "stream",
     "text": [
      "--2020-02-23 15:19:27--  http://qwone.com/~jason/20Newsgroups/20news-bydate.tar.gz\n",
      "Resolving qwone.com (qwone.com)... 108.20.201.166\n",
      "Connecting to qwone.com (qwone.com)|108.20.201.166|:80... connected.\n",
      "HTTP request sent, awaiting response... 200 OK\n",
      "Length: 14464277 (14M) [application/x-gzip]\n",
      "Saving to: ‘20news-bydate.tar.gz’\n",
      "\n",
      "20news-bydate.tar.g 100%[===================>]  13.79M  4.18MB/s    in 3.3s    \n",
      "\n",
      "2020-02-23 15:19:31 (4.18 MB/s) - ‘20news-bydate.tar.gz’ saved [14464277/14464277]\n",
      "\n"
     ]
    }
   ],
   "source": [
    "! wget http://qwone.com/~jason/20Newsgroups/20news-bydate.tar.gz"
   ]
  },
  {
   "cell_type": "code",
   "execution_count": 5,
   "metadata": {},
   "outputs": [],
   "source": [
    "! tar -xzf 20news-bydate.tar.gz"
   ]
  },
  {
   "cell_type": "code",
   "execution_count": 9,
   "metadata": {},
   "outputs": [
    {
     "name": "stdout",
     "output_type": "stream",
     "text": [
      "mv: cannot stat './20news*': No such file or directory\r\n"
     ]
    }
   ],
   "source": [
    "! mkdir -p dataset/ && mv ./20news* dataset/ "
   ]
  },
  {
   "cell_type": "code",
   "execution_count": 10,
   "metadata": {},
   "outputs": [
    {
     "name": "stdout",
     "output_type": "stream",
     "text": [
      "20news-bydate.tar.gz  20news-bydate-test  20news-bydate-train\r\n"
     ]
    }
   ],
   "source": [
    "! ls dataset"
   ]
  },
  {
   "cell_type": "code",
   "execution_count": null,
   "metadata": {},
   "outputs": [],
   "source": []
  }
 ],
 "metadata": {
  "kernelspec": {
   "display_name": "Python 3",
   "language": "python",
   "name": "python3"
  },
  "language_info": {
   "codemirror_mode": {
    "name": "ipython",
    "version": 3
   },
   "file_extension": ".py",
   "mimetype": "text/x-python",
   "name": "python",
   "nbconvert_exporter": "python",
   "pygments_lexer": "ipython3",
   "version": "3.8.1"
  }
 },
 "nbformat": 4,
 "nbformat_minor": 4
}
